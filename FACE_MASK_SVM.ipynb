{
  "nbformat": 4,
  "nbformat_minor": 0,
  "metadata": {
    "colab": {
      "provenance": []
    },
    "kernelspec": {
      "name": "python3",
      "display_name": "Python 3"
    },
    "language_info": {
      "name": "python"
    }
  },
  "cells": [
    {
      "cell_type": "code",
      "execution_count": null,
      "metadata": {
        "id": "KDI02XLrhp-A",
        "colab": {
          "base_uri": "https://localhost:8080/"
        },
        "outputId": "57431f0e-ed66-4d58-c7a1-29f126901d63"
      },
      "outputs": [
        {
          "output_type": "stream",
          "name": "stdout",
          "text": [
            "Drive already mounted at /content/drive; to attempt to forcibly remount, call drive.mount(\"/content/drive\", force_remount=True).\n"
          ]
        }
      ],
      "source": [
        "# MOUNT THE DRIVE\n",
        "from google.colab import drive\n",
        "drive.mount(\"/content/drive\")"
      ]
    },
    {
      "cell_type": "markdown",
      "source": [
        "IMPORTING LIBRARIES"
      ],
      "metadata": {
        "id": "08A-1qK1RaAr"
      }
    },
    {
      "cell_type": "code",
      "source": [
        "import numpy as np\n",
        "import pandas as pd\n",
        "import seaborn as sns\n",
        "import matplotlib.pyplot as plt"
      ],
      "metadata": {
        "id": "Ld-X6NJ4RWqC"
      },
      "execution_count": null,
      "outputs": []
    },
    {
      "cell_type": "markdown",
      "source": [
        "IMPORT OS MODULE: **To interact with the underlying operating system**"
      ],
      "metadata": {
        "id": "0_KqbgUTSlTu"
      }
    },
    {
      "cell_type": "code",
      "source": [
        "import os   \n",
        "# os module in python provides functions for creating and removing a folder,\n",
        "# fetching its content,changing and identifying the current dir etc"
      ],
      "metadata": {
        "id": "tEaTz1DMSM9P"
      },
      "execution_count": null,
      "outputs": []
    },
    {
      "cell_type": "code",
      "source": [
        "from skimage.io import imread   \n",
        "# skikit-image is an open source python package used for image processing\n",
        "# imread function to read images to a form usable in python program"
      ],
      "metadata": {
        "id": "qH-AleciS1GW"
      },
      "execution_count": null,
      "outputs": []
    },
    {
      "cell_type": "code",
      "source": [
        "from skimage.transform import resize"
      ],
      "metadata": {
        "id": "2caD_q8lT3SG"
      },
      "execution_count": null,
      "outputs": []
    },
    {
      "cell_type": "code",
      "source": [
        "os.listdir(\"/content/drive/MyDrive/MASK_SVM\")"
      ],
      "metadata": {
        "colab": {
          "base_uri": "https://localhost:8080/"
        },
        "id": "tm0V17v1Wudt",
        "outputId": "79c2196a-fd2f-4011-8f70-db27ffd427cc"
      },
      "execution_count": null,
      "outputs": [
        {
          "output_type": "execute_result",
          "data": {
            "text/plain": [
              "['MASKS_OFF', 'MASKS_ON']"
            ]
          },
          "metadata": {},
          "execution_count": 9
        }
      ]
    },
    {
      "cell_type": "code",
      "source": [
        "len(os.listdir(\"/content/drive/MyDrive/MASK_SVM/MASKS_OFF\"))"
      ],
      "metadata": {
        "colab": {
          "base_uri": "https://localhost:8080/"
        },
        "id": "umEYWqaLW_be",
        "outputId": "bbdee48a-b02e-4ef0-efd7-0071ced9eae2"
      },
      "execution_count": null,
      "outputs": [
        {
          "output_type": "execute_result",
          "data": {
            "text/plain": [
              "144"
            ]
          },
          "metadata": {},
          "execution_count": 10
        }
      ]
    },
    {
      "cell_type": "code",
      "source": [
        "len(os.listdir(\"/content/drive/MyDrive/MASK_SVM/MASKS_ON\"))"
      ],
      "metadata": {
        "colab": {
          "base_uri": "https://localhost:8080/"
        },
        "id": "D1ZR7mWcXNFw",
        "outputId": "6428925f-4eea-4e4f-a983-e97791aff204"
      },
      "execution_count": null,
      "outputs": [
        {
          "output_type": "execute_result",
          "data": {
            "text/plain": [
              "180"
            ]
          },
          "metadata": {},
          "execution_count": 12
        }
      ]
    },
    {
      "cell_type": "code",
      "source": [
        "# ASSIGN A VARIABLE FOR EACH PATH\n",
        "on_path=os.path.join(\"/content/drive/MyDrive/MASK_SVM\",\"MASKS_ON\")\n",
        "off_path=os.path.join(\"/content/drive/MyDrive/MASK_SVM\",\"MASKS_OFF\")"
      ],
      "metadata": {
        "id": "xgUqYwurXWYA"
      },
      "execution_count": null,
      "outputs": []
    },
    {
      "cell_type": "code",
      "source": [
        "# DISPLAY CONTENT IN BOTH PATHS\n",
        "for i in os.listdir(on_path):\n",
        "  print(i)"
      ],
      "metadata": {
        "colab": {
          "base_uri": "https://localhost:8080/"
        },
        "id": "lCh6SIHBYnix",
        "outputId": "ba7aa010-dd4f-4566-94db-fa7a4bc6d3bb"
      },
      "execution_count": null,
      "outputs": [
        {
          "output_type": "stream",
          "name": "stdout",
          "text": [
            "with_mask_111.jpg\n",
            "with_mask_185.jpg\n",
            "with_mask_182.jpg\n",
            "with_mask_189.jpg\n",
            "with_mask_174.jpg\n",
            "with_mask_113.jpg\n",
            "with_mask_62.jpg\n",
            "with_mask_57.jpg\n",
            "with_mask_127.jpg\n",
            "with_mask_9.jpg\n",
            "with_mask_149.jpg\n",
            "with_mask_65.jpg\n",
            "with_mask_115.jpg\n",
            "with_mask_28.jpg\n",
            "with_mask_261.jpg\n",
            "with_mask_186.jpg\n",
            "with_mask_257.jpg\n",
            "with_mask_119.jpg\n",
            "with_mask_169.jpg\n",
            "with_mask_137.jpg\n",
            "with_mask_259.jpg\n",
            "with_mask_208.jpg\n",
            "with_mask_203.jpg\n",
            "with_mask_94.jpg\n",
            "with_mask_5.jpg\n",
            "with_mask_228.jpg\n",
            "with_mask_41.jpg\n",
            "with_mask_102.jpg\n",
            "with_mask_253.jpg\n",
            "with_mask_206.jpg\n",
            "with_mask_61.jpg\n",
            "with_mask_114.jpg\n",
            "with_mask_129.jpg\n",
            "with_mask_76.jpg\n",
            "with_mask_30.jpg\n",
            "with_mask_170.jpg\n",
            "with_mask_172.jpg\n",
            "with_mask_135.jpg\n",
            "with_mask_12.jpg\n",
            "with_mask_82.jpg\n",
            "with_mask_80.jpg\n",
            "with_mask_222.jpg\n",
            "with_mask_42.jpg\n",
            "with_mask_27.jpg\n",
            "with_mask_84.jpg\n",
            "with_mask_146.jpg\n",
            "with_mask_225.jpg\n",
            "with_mask_25.jpg\n",
            "with_mask_245.jpg\n",
            "with_mask_118.jpg\n",
            "with_mask_43.jpg\n",
            "with_mask_136.jpg\n",
            "with_mask_109.jpg\n",
            "with_mask_204.jpg\n",
            "with_mask_150.jpg\n",
            "with_mask_60.jpg\n",
            "with_mask_116.jpg\n",
            "with_mask_153.jpg\n",
            "with_mask_1.jpg\n",
            "with_mask_66.jpg\n",
            "with_mask_75.jpg\n",
            "with_mask_96.jpg\n",
            "with_mask_255.jpg\n",
            "with_mask_20.jpg\n",
            "with_mask_64.jpg\n",
            "with_mask_130.jpg\n",
            "with_mask_210.jpg\n",
            "with_mask_236.jpg\n",
            "with_mask_45.jpg\n",
            "with_mask_165.jpg\n",
            "with_mask_164.jpg\n",
            "with_mask_241.jpg\n",
            "with_mask_171.jpg\n",
            "with_mask_48.jpg\n",
            "with_mask_263.jpg\n",
            "with_mask_202.jpg\n",
            "with_mask_221.jpg\n",
            "with_mask_58.jpg\n",
            "with_mask_209.jpg\n",
            "with_mask_83.jpg\n",
            "with_mask_63.jpg\n",
            "with_mask_227.jpg\n",
            "with_mask_205.jpg\n",
            "with_mask_97.jpg\n",
            "with_mask_242.jpg\n",
            "with_mask_91.jpg\n",
            "with_mask_239.jpg\n",
            "with_mask_238.jpg\n",
            "with_mask_156.jpg\n",
            "with_mask_74.jpg\n",
            "with_mask_39.jpg\n",
            "with_mask_147.jpg\n",
            "with_mask_260.jpg\n",
            "with_mask_79.jpg\n",
            "with_mask_235.jpg\n",
            "with_mask_22.jpg\n",
            "with_mask_168.jpg\n",
            "with_mask_101.jpg\n",
            "with_mask_21.jpg\n",
            "with_mask_99.jpg\n",
            "with_mask_133.jpg\n",
            "with_mask_132.jpg\n",
            "with_mask_73.jpg\n",
            "with_mask_188.jpg\n",
            "with_mask_246.jpg\n",
            "with_mask_192.jpg\n",
            "with_mask_155.jpg\n",
            "with_mask_145.jpg\n",
            "with_mask_240.jpg\n",
            "with_mask_223.jpg\n",
            "with_mask_262.jpg\n",
            "with_mask_218.jpg\n",
            "with_mask_8.jpg\n",
            "with_mask_224.jpg\n",
            "with_mask_258.jpg\n",
            "with_mask_55.jpg\n",
            "with_mask_199.jpg\n",
            "with_mask_183.jpg\n",
            "with_mask_200.jpg\n",
            "with_mask_184.jpg\n",
            "with_mask_163.jpg\n",
            "with_mask_40.jpg\n",
            "with_mask_93.jpg\n",
            "with_mask_117.jpg\n",
            "with_mask_166.jpg\n",
            "with_mask_19.jpg\n",
            "with_mask_110.jpg\n",
            "with_mask_181.jpg\n",
            "with_mask_138.jpg\n",
            "with_mask_3.jpg\n",
            "with_mask_187.jpg\n",
            "with_mask_7.jpg\n",
            "with_mask_152.jpg\n",
            "with_mask_11.jpg\n",
            "with_mask_173.jpg\n",
            "with_mask_81.jpg\n",
            "with_mask_264.jpg\n",
            "with_mask_154.jpg\n",
            "with_mask_219.jpg\n",
            "with_mask_95.jpg\n",
            "with_mask_2.jpg\n",
            "with_mask_56.jpg\n",
            "with_mask_24.jpg\n",
            "with_mask_47.jpg\n",
            "with_mask_167.jpg\n",
            "with_mask_44.jpg\n",
            "with_mask_134.jpg\n",
            "with_mask_29.jpg\n",
            "with_mask_148.jpg\n",
            "with_mask_226.jpg\n",
            "with_mask_237.jpg\n",
            "with_mask_256.jpg\n",
            "with_mask_4.jpg\n",
            "with_mask_26.jpg\n",
            "with_mask_6.jpg\n",
            "with_mask_112.jpg\n",
            "with_mask_77.jpg\n",
            "with_mask_38.jpg\n",
            "with_mask_220.jpg\n",
            "with_mask_37.jpg\n",
            "with_mask_23.jpg\n",
            "with_mask_98.jpg\n",
            "with_mask_254.jpg\n",
            "with_mask_244.jpg\n",
            "with_mask_207.jpg\n",
            "with_mask_201.jpg\n",
            "with_mask_243.jpg\n",
            "with_mask_46.jpg\n",
            "with_mask_120.jpg\n",
            "with_mask_92.jpg\n",
            "with_mask_10.jpg\n",
            "with_mask_151.jpg\n",
            "with_mask_190.jpg\n",
            "with_mask_59.jpg\n",
            "with_mask_217.jpg\n",
            "with_mask_100.jpg\n",
            "with_mask_78.jpg\n",
            "with_mask_128.jpg\n",
            "with_mask_191.jpg\n",
            "with_mask_131.jpg\n"
          ]
        }
      ]
    },
    {
      "cell_type": "code",
      "source": [
        "for i in os.listdir(off_path):\n",
        "  print(i)"
      ],
      "metadata": {
        "colab": {
          "base_uri": "https://localhost:8080/"
        },
        "id": "_HBlvbZYY1FB",
        "outputId": "b50e80ca-957a-4673-e135-8e8cd18df05f"
      },
      "execution_count": null,
      "outputs": [
        {
          "output_type": "stream",
          "name": "stdout",
          "text": [
            "without_mask_117.jpg\n",
            "without_mask_1.jpg\n",
            "without_mask_60.jpg\n",
            "without_mask_135.jpg\n",
            "without_mask_141.jpg\n",
            "without_mask_9.jpg\n",
            "without_mask_115.jpg\n",
            "without_mask_90.jpg\n",
            "without_mask_144.jpg\n",
            "without_mask_29.jpg\n",
            "without_mask_45.jpg\n",
            "without_mask_133.jpg\n",
            "without_mask_66.jpg\n",
            "without_mask_11.jpg\n",
            "without_mask_85.jpg\n",
            "without_mask_70.jpg\n",
            "without_mask_134.jpg\n",
            "without_mask_15.jpg\n",
            "without_mask_97.jpg\n",
            "without_mask_39.jpg\n",
            "without_mask_25.jpg\n",
            "without_mask_48.jpg\n",
            "without_mask_105.jpg\n",
            "without_mask_143.jpg\n",
            "without_mask_51.jpg\n",
            "without_mask_98.jpg\n",
            "without_mask_122.jpg\n",
            "without_mask_89.jpg\n",
            "without_mask_120.jpg\n",
            "without_mask_31.jpg\n",
            "without_mask_114.jpg\n",
            "without_mask_100.jpg\n",
            "without_mask_20.jpg\n",
            "without_mask_132.jpg\n",
            "without_mask_63.jpg\n",
            "without_mask_87.jpg\n",
            "without_mask_67.jpg\n",
            "without_mask_61.jpg\n",
            "without_mask_3.jpg\n",
            "without_mask_13.jpg\n",
            "without_mask_112.jpg\n",
            "without_mask_140.jpg\n",
            "without_mask_116.jpg\n",
            "without_mask_121.jpg\n",
            "without_mask_59.jpg\n",
            "without_mask_142.jpg\n",
            "without_mask_125.jpg\n",
            "without_mask_21.jpg\n",
            "without_mask_35.jpg\n",
            "without_mask_27.jpg\n",
            "without_mask_79.jpg\n",
            "without_mask_127.jpg\n",
            "without_mask_94.jpg\n",
            "without_mask_5.jpg\n",
            "without_mask_55.jpg\n",
            "without_mask_23.jpg\n",
            "without_mask_7.jpg\n",
            "without_mask_44.jpg\n",
            "without_mask_75.jpg\n",
            "without_mask_130.jpg\n",
            "without_mask_69.jpg\n",
            "without_mask_16.jpg\n",
            "without_mask_56.jpg\n",
            "without_mask_36.jpg\n",
            "without_mask_81.jpg\n",
            "without_mask_104.jpg\n",
            "without_mask_57.jpg\n",
            "without_mask_8.jpg\n",
            "without_mask_46.jpg\n",
            "without_mask_34.jpg\n",
            "without_mask_49.jpg\n",
            "without_mask_62.jpg\n",
            "without_mask_26.jpg\n",
            "without_mask_19.jpg\n",
            "without_mask_88.jpg\n",
            "without_mask_99.jpg\n",
            "without_mask_54.jpg\n",
            "without_mask_72.jpg\n",
            "without_mask_123.jpg\n",
            "without_mask_137.jpg\n",
            "without_mask_86.jpg\n",
            "without_mask_74.jpg\n",
            "without_mask_14.jpg\n",
            "without_mask_128.jpg\n",
            "without_mask_53.jpg\n",
            "without_mask_109.jpg\n",
            "without_mask_41.jpg\n",
            "without_mask_95.jpg\n",
            "without_mask_118.jpg\n",
            "without_mask_84.jpg\n",
            "without_mask_64.jpg\n",
            "without_mask_30.jpg\n",
            "without_mask_10.jpg\n",
            "without_mask_12.jpg\n",
            "without_mask_65.jpg\n",
            "without_mask_101.jpg\n",
            "without_mask_50.jpg\n",
            "without_mask_2.jpg\n",
            "without_mask_119.jpg\n",
            "without_mask_32.jpg\n",
            "without_mask_40.jpg\n",
            "without_mask_76.jpg\n",
            "without_mask_96.jpg\n",
            "without_mask_111.jpg\n",
            "without_mask_52.jpg\n",
            "without_mask_38.jpg\n",
            "without_mask_18.jpg\n",
            "without_mask_106.jpg\n",
            "without_mask_71.jpg\n",
            "without_mask_138.jpg\n",
            "without_mask_108.jpg\n",
            "without_mask_73.jpg\n",
            "without_mask_77.jpg\n",
            "without_mask_126.jpg\n",
            "without_mask_136.jpg\n",
            "without_mask_131.jpg\n",
            "without_mask_43.jpg\n",
            "without_mask_92.jpg\n",
            "without_mask_102.jpg\n",
            "without_mask_91.jpg\n",
            "without_mask_33.jpg\n",
            "without_mask_83.jpg\n",
            "without_mask_68.jpg\n",
            "without_mask_82.jpg\n",
            "without_mask_28.jpg\n",
            "without_mask_103.jpg\n",
            "without_mask_93.jpg\n",
            "without_mask_42.jpg\n",
            "without_mask_113.jpg\n",
            "without_mask_110.jpg\n",
            "without_mask_107.jpg\n",
            "without_mask_37.jpg\n",
            "without_mask_129.jpg\n",
            "without_mask_47.jpg\n",
            "without_mask_80.jpg\n",
            "without_mask_139.jpg\n",
            "without_mask_58.jpg\n",
            "without_mask_124.jpg\n",
            "without_mask_22.jpg\n",
            "without_mask_24.jpg\n",
            "without_mask_17.jpg\n",
            "without_mask_6.jpg\n",
            "without_mask_78.jpg\n",
            "without_mask_4.jpg\n"
          ]
        }
      ]
    },
    {
      "cell_type": "code",
      "source": [
        "categories=['MASKS_ON','MASKS_OFF']\n",
        "flatten_data_arr=[]  #input array\n",
        "target_arr=[]        #output array\n",
        "datadir=\"/content/drive/MyDrive/MASK_SVM\"   #path which contains all the categories of images"
      ],
      "metadata": {
        "id": "CmPjuVlaY7Lu"
      },
      "execution_count": null,
      "outputs": []
    },
    {
      "cell_type": "code",
      "source": [
        "for i in categories:\n",
        "  print('loading category:',i)\n",
        "  path=os.path.join(datadir,i)\n",
        "  for img in os.listdir(path):\n",
        "    img_read=imread(os.path.join(path,img))\n",
        "    img_resize=resize(img_read,(150,150,3))\n",
        "    flatten_data_arr.append(img_resize.flatten())\n",
        "    target_arr.append(categories.index(i))\n",
        "  print(\"load completed for category:\",i)"
      ],
      "metadata": {
        "colab": {
          "base_uri": "https://localhost:8080/"
        },
        "id": "7tQohj7DbcJG",
        "outputId": "51bb3553-f517-49bd-a08b-530ce2a6135d"
      },
      "execution_count": null,
      "outputs": [
        {
          "output_type": "stream",
          "name": "stdout",
          "text": [
            "loading category: MASKS_ON\n",
            "load completed for category: MASKS_ON\n",
            "loading category: MASKS_OFF\n",
            "load completed for category: MASKS_OFF\n"
          ]
        }
      ]
    },
    {
      "cell_type": "code",
      "source": [
        "flatten_data=np.array(flatten_data_arr)\n",
        "flatten_data"
      ],
      "metadata": {
        "colab": {
          "base_uri": "https://localhost:8080/"
        },
        "id": "llH4Lr1M4L29",
        "outputId": "ef1847d4-61af-4eca-d09b-4d5fbdd75fc4"
      },
      "execution_count": null,
      "outputs": [
        {
          "output_type": "execute_result",
          "data": {
            "text/plain": [
              "array([[0.0489698 , 0.03694976, 0.01785341, ..., 0.47810349, 0.37300886,\n",
              "        0.26497744],\n",
              "       [0.096767  , 0.07323759, 0.07323759, ..., 0.06178773, 0.0648595 ,\n",
              "        0.04780105],\n",
              "       [0.15724732, 0.17071137, 0.21552183, ..., 0.13541987, 0.13934144,\n",
              "        0.15502771],\n",
              "       ...,\n",
              "       [0.10920436, 0.10528279, 0.12489063, ..., 0.92547712, 0.9411634 ,\n",
              "        0.9529281 ],\n",
              "       [0.97647059, 0.98039216, 0.96078431, ..., 0.13341176, 0.08956863,\n",
              "        0.07411765],\n",
              "       [0.39402065, 0.23726418, 0.13526797, ..., 0.80749948, 0.71097281,\n",
              "        0.55298039]])"
            ]
          },
          "metadata": {},
          "execution_count": 23
        }
      ]
    },
    {
      "cell_type": "code",
      "source": [
        "target=np.array(target_arr)\n",
        "target"
      ],
      "metadata": {
        "colab": {
          "base_uri": "https://localhost:8080/"
        },
        "id": "xQVTaZxY4YDi",
        "outputId": "9288598a-ab4d-4b88-945b-2e65b81a0e5d"
      },
      "execution_count": null,
      "outputs": [
        {
          "output_type": "execute_result",
          "data": {
            "text/plain": [
              "array([0, 0, 0, 0, 0, 0, 0, 0, 0, 0, 0, 0, 0, 0, 0, 0, 0, 0, 0, 0, 0, 0,\n",
              "       0, 0, 0, 0, 0, 0, 0, 0, 0, 0, 0, 0, 0, 0, 0, 0, 0, 0, 0, 0, 0, 0,\n",
              "       0, 0, 0, 0, 0, 0, 0, 0, 0, 0, 0, 0, 0, 0, 0, 0, 0, 0, 0, 0, 0, 0,\n",
              "       0, 0, 0, 0, 0, 0, 0, 0, 0, 0, 0, 0, 0, 0, 0, 0, 0, 0, 0, 0, 0, 0,\n",
              "       0, 0, 0, 0, 0, 0, 0, 0, 0, 0, 0, 0, 0, 0, 0, 0, 0, 0, 0, 0, 0, 0,\n",
              "       0, 0, 0, 0, 0, 0, 0, 0, 0, 0, 0, 0, 0, 0, 0, 0, 0, 0, 0, 0, 0, 0,\n",
              "       0, 0, 0, 0, 0, 0, 0, 0, 0, 0, 0, 0, 0, 0, 0, 0, 0, 0, 0, 0, 0, 0,\n",
              "       0, 0, 0, 0, 0, 0, 0, 0, 0, 0, 0, 0, 0, 0, 0, 0, 0, 0, 0, 0, 0, 0,\n",
              "       0, 0, 0, 0, 1, 1, 1, 1, 1, 1, 1, 1, 1, 1, 1, 1, 1, 1, 1, 1, 1, 1,\n",
              "       1, 1, 1, 1, 1, 1, 1, 1, 1, 1, 1, 1, 1, 1, 1, 1, 1, 1, 1, 1, 1, 1,\n",
              "       1, 1, 1, 1, 1, 1, 1, 1, 1, 1, 1, 1, 1, 1, 1, 1, 1, 1, 1, 1, 1, 1,\n",
              "       1, 1, 1, 1, 1, 1, 1, 1, 1, 1, 1, 1, 1, 1, 1, 1, 1, 1, 1, 1, 1, 1,\n",
              "       1, 1, 1, 1, 1, 1, 1, 1, 1, 1, 1, 1, 1, 1, 1, 1, 1, 1, 1, 1, 1, 1,\n",
              "       1, 1, 1, 1, 1, 1, 1, 1, 1, 1, 1, 1, 1, 1, 1, 1, 1, 1, 1, 1, 1, 1,\n",
              "       1, 1, 1, 1, 1, 1, 1, 1, 1, 1, 1, 1, 1, 1, 1, 1])"
            ]
          },
          "metadata": {},
          "execution_count": 28
        }
      ]
    },
    {
      "cell_type": "code",
      "source": [
        "# CREATE A DATAFRAME USING PANDAS\n",
        "df=pd.DataFrame(flatten_data)\n",
        "df['Target']=target   # add a column Target\n",
        "df"
      ],
      "metadata": {
        "colab": {
          "base_uri": "https://localhost:8080/",
          "height": 488
        },
        "id": "RGIgT8pC4Z7o",
        "outputId": "813ec295-6a90-405c-a2f4-4919ead17985"
      },
      "execution_count": null,
      "outputs": [
        {
          "output_type": "execute_result",
          "data": {
            "text/plain": [
              "            0         1         2         3         4         5         6  \\\n",
              "0    0.048970  0.036950  0.017853  0.049624  0.036971  0.023606  0.048036   \n",
              "1    0.096767  0.073238  0.073238  0.098918  0.075389  0.075389  0.087897   \n",
              "2    0.157247  0.170711  0.215522  0.159029  0.172493  0.217304  0.157136   \n",
              "3    0.766592  0.638254  0.556172  0.741610  0.602220  0.516361  0.717316   \n",
              "4    0.680133  0.631324  0.972080  0.689959  0.642900  0.980154  0.706551   \n",
              "..        ...       ...       ...       ...       ...       ...       ...   \n",
              "319  0.411026  0.402562  0.351892  0.414243  0.398850  0.351644  0.421211   \n",
              "320  0.933333  0.933333  0.933333  0.933333  0.933333  0.933333  0.933333   \n",
              "321  0.109204  0.105283  0.124891  0.070449  0.066528  0.086135  0.051505   \n",
              "322  0.976471  0.980392  0.960784  0.983843  0.987765  0.968157  0.968157   \n",
              "323  0.394021  0.237264  0.135268  0.391090  0.244889  0.139374  0.397753   \n",
              "\n",
              "            7         8         9  ...     67491     67492     67493  \\\n",
              "0    0.040530  0.032455  0.053869  ...  0.485612  0.380571  0.286470   \n",
              "1    0.064368  0.064368  0.084486  ...  0.031793  0.031793  0.031793   \n",
              "2    0.170600  0.215410  0.155243  ...  0.135241  0.139162  0.154848   \n",
              "3    0.564863  0.467107  0.700209  ...  0.580296  0.407747  0.324906   \n",
              "4    0.659492  0.996289  0.696629  ...  0.764712  0.717789  0.977248   \n",
              "..        ...       ...       ...  ...       ...       ...       ...   \n",
              "319  0.398205  0.351146  0.418144  ...  0.155573  0.116357  0.210475   \n",
              "320  0.933333  0.933333  0.933333  ...  0.488784  0.484863  0.477020   \n",
              "321  0.047583  0.067191  0.051602  ...  0.921634  0.937124  0.948954   \n",
              "322  0.972078  0.952471  0.968863  ...  0.206745  0.163608  0.147922   \n",
              "323  0.253047  0.146969  0.401502  ...  0.851711  0.754297  0.597194   \n",
              "\n",
              "        67494     67495     67496     67497     67498     67499  Target  \n",
              "0    0.487582  0.384551  0.285311  0.478103  0.373009  0.264977       0  \n",
              "1    0.058457  0.058457  0.050614  0.061788  0.064859  0.047801       0  \n",
              "2    0.138289  0.142211  0.157897  0.135420  0.139341  0.155028       0  \n",
              "3    0.612489  0.447783  0.361508  0.578430  0.413724  0.327449       0  \n",
              "4    0.762281  0.711523  0.993876  0.761960  0.711202  0.993555       0  \n",
              "..        ...       ...       ...       ...       ...       ...     ...  \n",
              "319  0.144209  0.104993  0.199111  0.129359  0.090144  0.184261       1  \n",
              "320  0.450855  0.446933  0.439090  0.428376  0.424455  0.416612       1  \n",
              "321  0.921569  0.937255  0.949020  0.925477  0.941163  0.952928       1  \n",
              "322  0.171686  0.128549  0.112863  0.133412  0.089569  0.074118       1  \n",
              "323  0.823477  0.726575  0.569333  0.807499  0.710973  0.552980       1  \n",
              "\n",
              "[324 rows x 67501 columns]"
            ],
            "text/html": [
              "\n",
              "  <div id=\"df-1791f3e3-dd0e-4f33-87be-819f07970bd8\">\n",
              "    <div class=\"colab-df-container\">\n",
              "      <div>\n",
              "<style scoped>\n",
              "    .dataframe tbody tr th:only-of-type {\n",
              "        vertical-align: middle;\n",
              "    }\n",
              "\n",
              "    .dataframe tbody tr th {\n",
              "        vertical-align: top;\n",
              "    }\n",
              "\n",
              "    .dataframe thead th {\n",
              "        text-align: right;\n",
              "    }\n",
              "</style>\n",
              "<table border=\"1\" class=\"dataframe\">\n",
              "  <thead>\n",
              "    <tr style=\"text-align: right;\">\n",
              "      <th></th>\n",
              "      <th>0</th>\n",
              "      <th>1</th>\n",
              "      <th>2</th>\n",
              "      <th>3</th>\n",
              "      <th>4</th>\n",
              "      <th>5</th>\n",
              "      <th>6</th>\n",
              "      <th>7</th>\n",
              "      <th>8</th>\n",
              "      <th>9</th>\n",
              "      <th>...</th>\n",
              "      <th>67491</th>\n",
              "      <th>67492</th>\n",
              "      <th>67493</th>\n",
              "      <th>67494</th>\n",
              "      <th>67495</th>\n",
              "      <th>67496</th>\n",
              "      <th>67497</th>\n",
              "      <th>67498</th>\n",
              "      <th>67499</th>\n",
              "      <th>Target</th>\n",
              "    </tr>\n",
              "  </thead>\n",
              "  <tbody>\n",
              "    <tr>\n",
              "      <th>0</th>\n",
              "      <td>0.048970</td>\n",
              "      <td>0.036950</td>\n",
              "      <td>0.017853</td>\n",
              "      <td>0.049624</td>\n",
              "      <td>0.036971</td>\n",
              "      <td>0.023606</td>\n",
              "      <td>0.048036</td>\n",
              "      <td>0.040530</td>\n",
              "      <td>0.032455</td>\n",
              "      <td>0.053869</td>\n",
              "      <td>...</td>\n",
              "      <td>0.485612</td>\n",
              "      <td>0.380571</td>\n",
              "      <td>0.286470</td>\n",
              "      <td>0.487582</td>\n",
              "      <td>0.384551</td>\n",
              "      <td>0.285311</td>\n",
              "      <td>0.478103</td>\n",
              "      <td>0.373009</td>\n",
              "      <td>0.264977</td>\n",
              "      <td>0</td>\n",
              "    </tr>\n",
              "    <tr>\n",
              "      <th>1</th>\n",
              "      <td>0.096767</td>\n",
              "      <td>0.073238</td>\n",
              "      <td>0.073238</td>\n",
              "      <td>0.098918</td>\n",
              "      <td>0.075389</td>\n",
              "      <td>0.075389</td>\n",
              "      <td>0.087897</td>\n",
              "      <td>0.064368</td>\n",
              "      <td>0.064368</td>\n",
              "      <td>0.084486</td>\n",
              "      <td>...</td>\n",
              "      <td>0.031793</td>\n",
              "      <td>0.031793</td>\n",
              "      <td>0.031793</td>\n",
              "      <td>0.058457</td>\n",
              "      <td>0.058457</td>\n",
              "      <td>0.050614</td>\n",
              "      <td>0.061788</td>\n",
              "      <td>0.064859</td>\n",
              "      <td>0.047801</td>\n",
              "      <td>0</td>\n",
              "    </tr>\n",
              "    <tr>\n",
              "      <th>2</th>\n",
              "      <td>0.157247</td>\n",
              "      <td>0.170711</td>\n",
              "      <td>0.215522</td>\n",
              "      <td>0.159029</td>\n",
              "      <td>0.172493</td>\n",
              "      <td>0.217304</td>\n",
              "      <td>0.157136</td>\n",
              "      <td>0.170600</td>\n",
              "      <td>0.215410</td>\n",
              "      <td>0.155243</td>\n",
              "      <td>...</td>\n",
              "      <td>0.135241</td>\n",
              "      <td>0.139162</td>\n",
              "      <td>0.154848</td>\n",
              "      <td>0.138289</td>\n",
              "      <td>0.142211</td>\n",
              "      <td>0.157897</td>\n",
              "      <td>0.135420</td>\n",
              "      <td>0.139341</td>\n",
              "      <td>0.155028</td>\n",
              "      <td>0</td>\n",
              "    </tr>\n",
              "    <tr>\n",
              "      <th>3</th>\n",
              "      <td>0.766592</td>\n",
              "      <td>0.638254</td>\n",
              "      <td>0.556172</td>\n",
              "      <td>0.741610</td>\n",
              "      <td>0.602220</td>\n",
              "      <td>0.516361</td>\n",
              "      <td>0.717316</td>\n",
              "      <td>0.564863</td>\n",
              "      <td>0.467107</td>\n",
              "      <td>0.700209</td>\n",
              "      <td>...</td>\n",
              "      <td>0.580296</td>\n",
              "      <td>0.407747</td>\n",
              "      <td>0.324906</td>\n",
              "      <td>0.612489</td>\n",
              "      <td>0.447783</td>\n",
              "      <td>0.361508</td>\n",
              "      <td>0.578430</td>\n",
              "      <td>0.413724</td>\n",
              "      <td>0.327449</td>\n",
              "      <td>0</td>\n",
              "    </tr>\n",
              "    <tr>\n",
              "      <th>4</th>\n",
              "      <td>0.680133</td>\n",
              "      <td>0.631324</td>\n",
              "      <td>0.972080</td>\n",
              "      <td>0.689959</td>\n",
              "      <td>0.642900</td>\n",
              "      <td>0.980154</td>\n",
              "      <td>0.706551</td>\n",
              "      <td>0.659492</td>\n",
              "      <td>0.996289</td>\n",
              "      <td>0.696629</td>\n",
              "      <td>...</td>\n",
              "      <td>0.764712</td>\n",
              "      <td>0.717789</td>\n",
              "      <td>0.977248</td>\n",
              "      <td>0.762281</td>\n",
              "      <td>0.711523</td>\n",
              "      <td>0.993876</td>\n",
              "      <td>0.761960</td>\n",
              "      <td>0.711202</td>\n",
              "      <td>0.993555</td>\n",
              "      <td>0</td>\n",
              "    </tr>\n",
              "    <tr>\n",
              "      <th>...</th>\n",
              "      <td>...</td>\n",
              "      <td>...</td>\n",
              "      <td>...</td>\n",
              "      <td>...</td>\n",
              "      <td>...</td>\n",
              "      <td>...</td>\n",
              "      <td>...</td>\n",
              "      <td>...</td>\n",
              "      <td>...</td>\n",
              "      <td>...</td>\n",
              "      <td>...</td>\n",
              "      <td>...</td>\n",
              "      <td>...</td>\n",
              "      <td>...</td>\n",
              "      <td>...</td>\n",
              "      <td>...</td>\n",
              "      <td>...</td>\n",
              "      <td>...</td>\n",
              "      <td>...</td>\n",
              "      <td>...</td>\n",
              "      <td>...</td>\n",
              "    </tr>\n",
              "    <tr>\n",
              "      <th>319</th>\n",
              "      <td>0.411026</td>\n",
              "      <td>0.402562</td>\n",
              "      <td>0.351892</td>\n",
              "      <td>0.414243</td>\n",
              "      <td>0.398850</td>\n",
              "      <td>0.351644</td>\n",
              "      <td>0.421211</td>\n",
              "      <td>0.398205</td>\n",
              "      <td>0.351146</td>\n",
              "      <td>0.418144</td>\n",
              "      <td>...</td>\n",
              "      <td>0.155573</td>\n",
              "      <td>0.116357</td>\n",
              "      <td>0.210475</td>\n",
              "      <td>0.144209</td>\n",
              "      <td>0.104993</td>\n",
              "      <td>0.199111</td>\n",
              "      <td>0.129359</td>\n",
              "      <td>0.090144</td>\n",
              "      <td>0.184261</td>\n",
              "      <td>1</td>\n",
              "    </tr>\n",
              "    <tr>\n",
              "      <th>320</th>\n",
              "      <td>0.933333</td>\n",
              "      <td>0.933333</td>\n",
              "      <td>0.933333</td>\n",
              "      <td>0.933333</td>\n",
              "      <td>0.933333</td>\n",
              "      <td>0.933333</td>\n",
              "      <td>0.933333</td>\n",
              "      <td>0.933333</td>\n",
              "      <td>0.933333</td>\n",
              "      <td>0.933333</td>\n",
              "      <td>...</td>\n",
              "      <td>0.488784</td>\n",
              "      <td>0.484863</td>\n",
              "      <td>0.477020</td>\n",
              "      <td>0.450855</td>\n",
              "      <td>0.446933</td>\n",
              "      <td>0.439090</td>\n",
              "      <td>0.428376</td>\n",
              "      <td>0.424455</td>\n",
              "      <td>0.416612</td>\n",
              "      <td>1</td>\n",
              "    </tr>\n",
              "    <tr>\n",
              "      <th>321</th>\n",
              "      <td>0.109204</td>\n",
              "      <td>0.105283</td>\n",
              "      <td>0.124891</td>\n",
              "      <td>0.070449</td>\n",
              "      <td>0.066528</td>\n",
              "      <td>0.086135</td>\n",
              "      <td>0.051505</td>\n",
              "      <td>0.047583</td>\n",
              "      <td>0.067191</td>\n",
              "      <td>0.051602</td>\n",
              "      <td>...</td>\n",
              "      <td>0.921634</td>\n",
              "      <td>0.937124</td>\n",
              "      <td>0.948954</td>\n",
              "      <td>0.921569</td>\n",
              "      <td>0.937255</td>\n",
              "      <td>0.949020</td>\n",
              "      <td>0.925477</td>\n",
              "      <td>0.941163</td>\n",
              "      <td>0.952928</td>\n",
              "      <td>1</td>\n",
              "    </tr>\n",
              "    <tr>\n",
              "      <th>322</th>\n",
              "      <td>0.976471</td>\n",
              "      <td>0.980392</td>\n",
              "      <td>0.960784</td>\n",
              "      <td>0.983843</td>\n",
              "      <td>0.987765</td>\n",
              "      <td>0.968157</td>\n",
              "      <td>0.968157</td>\n",
              "      <td>0.972078</td>\n",
              "      <td>0.952471</td>\n",
              "      <td>0.968863</td>\n",
              "      <td>...</td>\n",
              "      <td>0.206745</td>\n",
              "      <td>0.163608</td>\n",
              "      <td>0.147922</td>\n",
              "      <td>0.171686</td>\n",
              "      <td>0.128549</td>\n",
              "      <td>0.112863</td>\n",
              "      <td>0.133412</td>\n",
              "      <td>0.089569</td>\n",
              "      <td>0.074118</td>\n",
              "      <td>1</td>\n",
              "    </tr>\n",
              "    <tr>\n",
              "      <th>323</th>\n",
              "      <td>0.394021</td>\n",
              "      <td>0.237264</td>\n",
              "      <td>0.135268</td>\n",
              "      <td>0.391090</td>\n",
              "      <td>0.244889</td>\n",
              "      <td>0.139374</td>\n",
              "      <td>0.397753</td>\n",
              "      <td>0.253047</td>\n",
              "      <td>0.146969</td>\n",
              "      <td>0.401502</td>\n",
              "      <td>...</td>\n",
              "      <td>0.851711</td>\n",
              "      <td>0.754297</td>\n",
              "      <td>0.597194</td>\n",
              "      <td>0.823477</td>\n",
              "      <td>0.726575</td>\n",
              "      <td>0.569333</td>\n",
              "      <td>0.807499</td>\n",
              "      <td>0.710973</td>\n",
              "      <td>0.552980</td>\n",
              "      <td>1</td>\n",
              "    </tr>\n",
              "  </tbody>\n",
              "</table>\n",
              "<p>324 rows × 67501 columns</p>\n",
              "</div>\n",
              "      <button class=\"colab-df-convert\" onclick=\"convertToInteractive('df-1791f3e3-dd0e-4f33-87be-819f07970bd8')\"\n",
              "              title=\"Convert this dataframe to an interactive table.\"\n",
              "              style=\"display:none;\">\n",
              "        \n",
              "  <svg xmlns=\"http://www.w3.org/2000/svg\" height=\"24px\"viewBox=\"0 0 24 24\"\n",
              "       width=\"24px\">\n",
              "    <path d=\"M0 0h24v24H0V0z\" fill=\"none\"/>\n",
              "    <path d=\"M18.56 5.44l.94 2.06.94-2.06 2.06-.94-2.06-.94-.94-2.06-.94 2.06-2.06.94zm-11 1L8.5 8.5l.94-2.06 2.06-.94-2.06-.94L8.5 2.5l-.94 2.06-2.06.94zm10 10l.94 2.06.94-2.06 2.06-.94-2.06-.94-.94-2.06-.94 2.06-2.06.94z\"/><path d=\"M17.41 7.96l-1.37-1.37c-.4-.4-.92-.59-1.43-.59-.52 0-1.04.2-1.43.59L10.3 9.45l-7.72 7.72c-.78.78-.78 2.05 0 2.83L4 21.41c.39.39.9.59 1.41.59.51 0 1.02-.2 1.41-.59l7.78-7.78 2.81-2.81c.8-.78.8-2.07 0-2.86zM5.41 20L4 18.59l7.72-7.72 1.47 1.35L5.41 20z\"/>\n",
              "  </svg>\n",
              "      </button>\n",
              "      \n",
              "  <style>\n",
              "    .colab-df-container {\n",
              "      display:flex;\n",
              "      flex-wrap:wrap;\n",
              "      gap: 12px;\n",
              "    }\n",
              "\n",
              "    .colab-df-convert {\n",
              "      background-color: #E8F0FE;\n",
              "      border: none;\n",
              "      border-radius: 50%;\n",
              "      cursor: pointer;\n",
              "      display: none;\n",
              "      fill: #1967D2;\n",
              "      height: 32px;\n",
              "      padding: 0 0 0 0;\n",
              "      width: 32px;\n",
              "    }\n",
              "\n",
              "    .colab-df-convert:hover {\n",
              "      background-color: #E2EBFA;\n",
              "      box-shadow: 0px 1px 2px rgba(60, 64, 67, 0.3), 0px 1px 3px 1px rgba(60, 64, 67, 0.15);\n",
              "      fill: #174EA6;\n",
              "    }\n",
              "\n",
              "    [theme=dark] .colab-df-convert {\n",
              "      background-color: #3B4455;\n",
              "      fill: #D2E3FC;\n",
              "    }\n",
              "\n",
              "    [theme=dark] .colab-df-convert:hover {\n",
              "      background-color: #434B5C;\n",
              "      box-shadow: 0px 1px 3px 1px rgba(0, 0, 0, 0.15);\n",
              "      filter: drop-shadow(0px 1px 2px rgba(0, 0, 0, 0.3));\n",
              "      fill: #FFFFFF;\n",
              "    }\n",
              "  </style>\n",
              "\n",
              "      <script>\n",
              "        const buttonEl =\n",
              "          document.querySelector('#df-1791f3e3-dd0e-4f33-87be-819f07970bd8 button.colab-df-convert');\n",
              "        buttonEl.style.display =\n",
              "          google.colab.kernel.accessAllowed ? 'block' : 'none';\n",
              "\n",
              "        async function convertToInteractive(key) {\n",
              "          const element = document.querySelector('#df-1791f3e3-dd0e-4f33-87be-819f07970bd8');\n",
              "          const dataTable =\n",
              "            await google.colab.kernel.invokeFunction('convertToInteractive',\n",
              "                                                     [key], {});\n",
              "          if (!dataTable) return;\n",
              "\n",
              "          const docLinkHtml = 'Like what you see? Visit the ' +\n",
              "            '<a target=\"_blank\" href=https://colab.research.google.com/notebooks/data_table.ipynb>data table notebook</a>'\n",
              "            + ' to learn more about interactive tables.';\n",
              "          element.innerHTML = '';\n",
              "          dataTable['output_type'] = 'display_data';\n",
              "          await google.colab.output.renderOutput(dataTable, element);\n",
              "          const docLink = document.createElement('div');\n",
              "          docLink.innerHTML = docLinkHtml;\n",
              "          element.appendChild(docLink);\n",
              "        }\n",
              "      </script>\n",
              "    </div>\n",
              "  </div>\n",
              "  "
            ]
          },
          "metadata": {},
          "execution_count": 29
        }
      ]
    },
    {
      "cell_type": "code",
      "source": [
        "df.shape  # NUMBER OF COLUMNS=150*150*3+1"
      ],
      "metadata": {
        "colab": {
          "base_uri": "https://localhost:8080/"
        },
        "id": "OfU7srGU5i_V",
        "outputId": "084bd2f2-b671-4fe6-861e-8864d6b883d5"
      },
      "execution_count": null,
      "outputs": [
        {
          "output_type": "execute_result",
          "data": {
            "text/plain": [
              "(324, 67501)"
            ]
          },
          "metadata": {},
          "execution_count": 30
        }
      ]
    },
    {
      "cell_type": "markdown",
      "source": [
        "SEPERATING INPUT AND OUTPUT"
      ],
      "metadata": {
        "id": "pTW_ZF0h59tY"
      }
    },
    {
      "cell_type": "code",
      "source": [
        "x=df.iloc[:,:-1]\n",
        "y=df.iloc[:,-1]"
      ],
      "metadata": {
        "id": "BkW-vCSq6Ayt"
      },
      "execution_count": null,
      "outputs": []
    },
    {
      "cell_type": "markdown",
      "source": [
        "SEPERATING TRAIN AND TEST DATA"
      ],
      "metadata": {
        "id": "DVaAV0Rh6eVs"
      }
    },
    {
      "cell_type": "code",
      "source": [
        "from sklearn.model_selection import train_test_split\n",
        "x_train,x_test,y_train,y_test=train_test_split(x,y,test_size=0.20,random_state=42)"
      ],
      "metadata": {
        "id": "S4xUARub6iLy"
      },
      "execution_count": null,
      "outputs": []
    },
    {
      "cell_type": "markdown",
      "source": [
        "MODEL CREATION"
      ],
      "metadata": {
        "id": "IOGb9auB6Skj"
      }
    },
    {
      "cell_type": "code",
      "source": [
        "from sklearn.svm import SVC\n",
        "model=SVC()\n",
        "model.fit(x_train,y_train)\n",
        "y_pred=model.predict(x_test)"
      ],
      "metadata": {
        "id": "XijG58ja6Oc8"
      },
      "execution_count": null,
      "outputs": []
    },
    {
      "cell_type": "markdown",
      "source": [
        "PERFORMACE EVALUATION"
      ],
      "metadata": {
        "id": "y8BV4Pju7Zs7"
      }
    },
    {
      "cell_type": "code",
      "source": [
        "from sklearn.metrics import accuracy_score,confusion_matrix,classification_report\n",
        "mat=confusion_matrix(y_test,y_pred)\n",
        "mat"
      ],
      "metadata": {
        "colab": {
          "base_uri": "https://localhost:8080/"
        },
        "id": "BbsE5WDu6Q-j",
        "outputId": "29a5d832-c1de-44a8-e375-88b42509a964"
      },
      "execution_count": null,
      "outputs": [
        {
          "output_type": "execute_result",
          "data": {
            "text/plain": [
              "array([[39,  2],\n",
              "       [ 1, 23]])"
            ]
          },
          "metadata": {},
          "execution_count": 38
        }
      ]
    },
    {
      "cell_type": "code",
      "source": [
        "sns.heatmap(mat,annot=True)"
      ],
      "metadata": {
        "colab": {
          "base_uri": "https://localhost:8080/",
          "height": 282
        },
        "id": "2zbzCSXp8UE8",
        "outputId": "268a12cf-57d6-4936-8a86-2fbc3517bc02"
      },
      "execution_count": null,
      "outputs": [
        {
          "output_type": "execute_result",
          "data": {
            "text/plain": [
              "<Axes: >"
            ]
          },
          "metadata": {},
          "execution_count": 41
        },
        {
          "output_type": "display_data",
          "data": {
            "text/plain": [
              "<Figure size 432x288 with 2 Axes>"
            ],
            "image/png": "[encoded data removed]"
          },
          "metadata": {
            "needs_background": "light"
          }
        }
      ]
    },
    {
      "cell_type": "code",
      "source": [
        "score=accuracy_score(y_test,y_pred) \n",
        "score  "
      ],
      "metadata": {
        "colab": {
          "base_uri": "https://localhost:8080/"
        },
        "id": "1JzcBc3s7dR2",
        "outputId": "a2c0902d-9e2a-4235-81f4-921ed4d2209b"
      },
      "execution_count": null,
      "outputs": [
        {
          "output_type": "execute_result",
          "data": {
            "text/plain": [
              "0.9538461538461539"
            ]
          },
          "metadata": {},
          "execution_count": 39
        }
      ]
    },
    {
      "cell_type": "code",
      "source": [
        "report=classification_report(y_test,y_pred)\n",
        "print(report)      "
      ],
      "metadata": {
        "colab": {
          "base_uri": "https://localhost:8080/"
        },
        "id": "MSzesE_D7k-2",
        "outputId": "c196ad21-8d76-4c49-cbbd-9050098f0b42"
      },
      "execution_count": null,
      "outputs": [
        {
          "output_type": "stream",
          "name": "stdout",
          "text": [
            "              precision    recall  f1-score   support\n",
            "\n",
            "           0       0.97      0.95      0.96        41\n",
            "           1       0.92      0.96      0.94        24\n",
            "\n",
            "    accuracy                           0.95        65\n",
            "   macro avg       0.95      0.95      0.95        65\n",
            "weighted avg       0.95      0.95      0.95        65\n",
            "\n"
          ]
        }
      ]
    },
    {
      "cell_type": "markdown",
      "source": [
        "**IMPLEMENTATION**"
      ],
      "metadata": {
        "id": "7UhoB0pE9gNb"
      }
    },
    {
      "cell_type": "code",
      "source": [
        "url=input(\"Enter URL of the image:\")\n",
        "img=imread(url)\n",
        "plt.imshow(img)\n",
        "plt.show()\n",
        "img_resize=resize(img,(150,150,3))\n",
        "l=[img_resize.flatten()]\n",
        "print(\"THE PREDICTED IMAGE IS:\",categories[model.predict(l)[0]])\n"
      ],
      "metadata": {
        "colab": {
          "base_uri": "https://localhost:8080/",
          "height": 304
        },
        "id": "SvA6DoRj7pDi",
        "outputId": "9d320829-005a-4739-8862-5a52910b5c15"
      },
      "execution_count": null,
      "outputs": [
        {
          "name": "stdout",
          "output_type": "stream",
          "text": [
            "Enter URL of the image:/content/drive/MyDrive/with_mask_1797.jpg\n"
          ]
        },
        {
          "output_type": "display_data",
          "data": {
            "text/plain": [
              "<Figure size 432x288 with 1 Axes>"
            ],
            "image/png": "[encoded data removed]"
          },
          "metadata": {
            "needs_background": "light"
          }
        },
        {
          "output_type": "stream",
          "name": "stdout",
          "text": [
            "THE PREDICTED IMAGE IS: MASKS_ON\n"
          ]
        }
      ]
    },
    {
      "cell_type": "code",
      "source": [
        "url1=input(\"Enter URL of the image:\")\n",
        "img=imread(url1)\n",
        "plt.imshow(img)\n",
        "plt.show()\n",
        "img_resize=resize(img,(150,150,3))\n",
        "l=[img_resize.flatten()]\n",
        "print(\"THE PREDICTED IMAGE IS:\",categories[model.predict(l)[0]])"
      ],
      "metadata": {
        "colab": {
          "base_uri": "https://localhost:8080/",
          "height": 304
        },
        "id": "Hq6WQtCbAA0w",
        "outputId": "bb10842f-c41f-40ba-8542-c40d96ebbd29"
      },
      "execution_count": null,
      "outputs": [
        {
          "name": "stdout",
          "output_type": "stream",
          "text": [
            "Enter URL of the image:/content/drive/MyDrive/without_mask_1695.jpg\n"
          ]
        },
        {
          "output_type": "display_data",
          "data": {
            "text/plain": [
              "<Figure size 432x288 with 1 Axes>"
            ],
            "image/png": "[encoded data removed]"
          },
          "metadata": {
            "needs_background": "light"
          }
        },
        {
          "output_type": "stream",
          "name": "stdout",
          "text": [
            "THE PREDICTED IMAGE IS: MASKS_OFF\n"
          ]
        }
      ]
    },
    {
      "cell_type": "markdown",
      "source": [
        "**CONCLUSION: SVM model with 95% accuracy is assembled and trained to classify images with or without masks.**\n"
      ],
      "metadata": {
        "id": "mZwcS3GpAZ2p"
      }
    }
  ]
}